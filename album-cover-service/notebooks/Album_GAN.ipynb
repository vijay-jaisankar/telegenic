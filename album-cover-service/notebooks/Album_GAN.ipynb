{
  "nbformat": 4,
  "nbformat_minor": 0,
  "metadata": {
    "colab": {
      "provenance": []
    },
    "kernelspec": {
      "name": "python3",
      "display_name": "Python 3"
    },
    "language_info": {
      "name": "python"
    },
    "accelerator": "GPU",
    "gpuClass": "standard"
  },
  "cells": [
    {
      "cell_type": "markdown",
      "source": [
        "## Generating new album covers using NVIDIA's STYLEGAN2ADA\n",
        "\n",
        "> Note: We are using `64` images of dimensions `32x32`\n",
        "\n",
        "Credits: [Jeff Heaton](https://github.com/jeffheaton/present/blob/master/youtube/gan/colab_gan_train.ipynb)"
      ],
      "metadata": {
        "id": "zW6_nUS9w7S2"
      }
    },
    {
      "cell_type": "code",
      "source": [
        "try:\n",
        "    from google.colab import drive\n",
        "    drive.mount('/content/drive', force_remount=True)\n",
        "    COLAB = True\n",
        "    print(\"Note: using Google CoLab\")\n",
        "except:\n",
        "    print(\"Note: not using Google CoLab\")\n",
        "    COLAB = False"
      ],
      "metadata": {
        "colab": {
          "base_uri": "https://localhost:8080/"
        },
        "id": "mCJNgdwfw6bA",
        "outputId": "e1261d5a-6d81-4802-ccb4-7515d144962c"
      },
      "execution_count": 10,
      "outputs": [
        {
          "output_type": "stream",
          "name": "stdout",
          "text": [
            "Mounted at /content/drive\n",
            "Note: using Google CoLab\n"
          ]
        }
      ]
    },
    {
      "cell_type": "markdown",
      "source": [
        "## Imports and installations"
      ],
      "metadata": {
        "id": "mEGUPabexXJp"
      }
    },
    {
      "cell_type": "code",
      "source": [
        "!pip install torch==1.8.1 torchvision==0.9.1\n",
        "!git clone https://github.com/NVlabs/stylegan2-ada-pytorch.git\n",
        "!pip install ninja"
      ],
      "metadata": {
        "colab": {
          "base_uri": "https://localhost:8080/"
        },
        "id": "qqzWPgyYxSx3",
        "outputId": "71406c3a-93d1-44c6-9bcd-5d24445aad91"
      },
      "execution_count": 11,
      "outputs": [
        {
          "output_type": "stream",
          "name": "stdout",
          "text": [
            "Looking in indexes: https://pypi.org/simple, https://us-python.pkg.dev/colab-wheels/public/simple/\n",
            "Requirement already satisfied: torch==1.8.1 in /usr/local/lib/python3.8/dist-packages (1.8.1)\n",
            "Requirement already satisfied: torchvision==0.9.1 in /usr/local/lib/python3.8/dist-packages (0.9.1)\n",
            "Requirement already satisfied: numpy in /usr/local/lib/python3.8/dist-packages (from torch==1.8.1) (1.21.6)\n",
            "Requirement already satisfied: typing-extensions in /usr/local/lib/python3.8/dist-packages (from torch==1.8.1) (4.5.0)\n",
            "Requirement already satisfied: pillow>=4.1.1 in /usr/local/lib/python3.8/dist-packages (from torchvision==0.9.1) (7.1.2)\n",
            "fatal: destination path 'stylegan2-ada-pytorch' already exists and is not an empty directory.\n",
            "Looking in indexes: https://pypi.org/simple, https://us-python.pkg.dev/colab-wheels/public/simple/\n",
            "Requirement already satisfied: ninja in /usr/local/lib/python3.8/dist-packages (1.11.1)\n"
          ]
        }
      ]
    },
    {
      "cell_type": "markdown",
      "source": [
        "## Converting the images"
      ],
      "metadata": {
        "id": "fxfxIKMcxsJS"
      }
    },
    {
      "cell_type": "code",
      "source": [
        "!python /content/stylegan2-ada-pytorch/dataset_tool.py --source /content/drive/MyDrive/GAN/images/album --dest /content/drive/MyDrive/GAN/dataset/album"
      ],
      "metadata": {
        "colab": {
          "base_uri": "https://localhost:8080/"
        },
        "id": "CHyiDOivxpvT",
        "outputId": "a129bf55-b3ef-4956-bd63-80a8092325da"
      },
      "execution_count": 13,
      "outputs": [
        {
          "output_type": "stream",
          "name": "stdout",
          "text": [
            "100% 63/63 [00:00<00:00, 156.06it/s]\n"
          ]
        }
      ]
    },
    {
      "cell_type": "markdown",
      "source": [
        "## Training the GAN"
      ],
      "metadata": {
        "id": "597BPKkfyy8A"
      }
    },
    {
      "cell_type": "code",
      "source": [
        "import os\n",
        "\n",
        "# Modify these to suit your needs\n",
        "EXPERIMENTS = \"/content/drive/MyDrive/GAN/experiments\"\n",
        "DATA = \"/content/drive/MyDrive/GAN/dataset/album\"\n",
        "SNAP = 10\n",
        "\n",
        "# Build the command and run it\n",
        "cmd = f\"/usr/bin/python3 /content/stylegan2-ada-pytorch/train.py --snap {SNAP} --outdir {EXPERIMENTS} --data {DATA}\"\n",
        "!{cmd}"
      ],
      "metadata": {
        "colab": {
          "base_uri": "https://localhost:8080/"
        },
        "id": "4aqzWaRhyYEy",
        "outputId": "4e23a50f-5f11-46b3-87f3-cc5095a62edb"
      },
      "execution_count": 14,
      "outputs": [
        {
          "output_type": "stream",
          "name": "stdout",
          "text": [
            "\n",
            "Training options:\n",
            "{\n",
            "  \"num_gpus\": 1,\n",
            "  \"image_snapshot_ticks\": 10,\n",
            "  \"network_snapshot_ticks\": 10,\n",
            "  \"metrics\": [\n",
            "    \"fid50k_full\"\n",
            "  ],\n",
            "  \"random_seed\": 0,\n",
            "  \"training_set_kwargs\": {\n",
            "    \"class_name\": \"training.dataset.ImageFolderDataset\",\n",
            "    \"path\": \"/content/drive/MyDrive/GAN/dataset/album\",\n",
            "    \"use_labels\": false,\n",
            "    \"max_size\": 63,\n",
            "    \"xflip\": false,\n",
            "    \"resolution\": 32\n",
            "  },\n",
            "  \"data_loader_kwargs\": {\n",
            "    \"pin_memory\": true,\n",
            "    \"num_workers\": 3,\n",
            "    \"prefetch_factor\": 2\n",
            "  },\n",
            "  \"G_kwargs\": {\n",
            "    \"class_name\": \"training.networks.Generator\",\n",
            "    \"z_dim\": 512,\n",
            "    \"w_dim\": 512,\n",
            "    \"mapping_kwargs\": {\n",
            "      \"num_layers\": 2\n",
            "    },\n",
            "    \"synthesis_kwargs\": {\n",
            "      \"channel_base\": 16384,\n",
            "      \"channel_max\": 512,\n",
            "      \"num_fp16_res\": 4,\n",
            "      \"conv_clamp\": 256\n",
            "    }\n",
            "  },\n",
            "  \"D_kwargs\": {\n",
            "    \"class_name\": \"training.networks.Discriminator\",\n",
            "    \"block_kwargs\": {},\n",
            "    \"mapping_kwargs\": {},\n",
            "    \"epilogue_kwargs\": {\n",
            "      \"mbstd_group_size\": 4\n",
            "    },\n",
            "    \"channel_base\": 16384,\n",
            "    \"channel_max\": 512,\n",
            "    \"num_fp16_res\": 4,\n",
            "    \"conv_clamp\": 256\n",
            "  },\n",
            "  \"G_opt_kwargs\": {\n",
            "    \"class_name\": \"torch.optim.Adam\",\n",
            "    \"lr\": 0.0025,\n",
            "    \"betas\": [\n",
            "      0,\n",
            "      0.99\n",
            "    ],\n",
            "    \"eps\": 1e-08\n",
            "  },\n",
            "  \"D_opt_kwargs\": {\n",
            "    \"class_name\": \"torch.optim.Adam\",\n",
            "    \"lr\": 0.0025,\n",
            "    \"betas\": [\n",
            "      0,\n",
            "      0.99\n",
            "    ],\n",
            "    \"eps\": 1e-08\n",
            "  },\n",
            "  \"loss_kwargs\": {\n",
            "    \"class_name\": \"training.loss.StyleGAN2Loss\",\n",
            "    \"r1_gamma\": 0.0064\n",
            "  },\n",
            "  \"total_kimg\": 25000,\n",
            "  \"batch_size\": 32,\n",
            "  \"batch_gpu\": 32,\n",
            "  \"ema_kimg\": 10.0,\n",
            "  \"ema_rampup\": 0.05,\n",
            "  \"ada_target\": 0.6,\n",
            "  \"augment_kwargs\": {\n",
            "    \"class_name\": \"training.augment.AugmentPipe\",\n",
            "    \"xflip\": 1,\n",
            "    \"rotate90\": 1,\n",
            "    \"xint\": 1,\n",
            "    \"scale\": 1,\n",
            "    \"rotate\": 1,\n",
            "    \"aniso\": 1,\n",
            "    \"xfrac\": 1,\n",
            "    \"brightness\": 1,\n",
            "    \"contrast\": 1,\n",
            "    \"lumaflip\": 1,\n",
            "    \"hue\": 1,\n",
            "    \"saturation\": 1\n",
            "  },\n",
            "  \"run_dir\": \"/content/drive/MyDrive/GAN/experiments/00000-album-auto1\"\n",
            "}\n",
            "\n",
            "Output directory:   /content/drive/MyDrive/GAN/experiments/00000-album-auto1\n",
            "Training data:      /content/drive/MyDrive/GAN/dataset/album\n",
            "Training duration:  25000 kimg\n",
            "Number of GPUs:     1\n",
            "Number of images:   63\n",
            "Image resolution:   32\n",
            "Conditional model:  False\n",
            "Dataset x-flips:    False\n",
            "\n",
            "Creating output directory...\n",
            "Launching processes...\n",
            "Loading training set...\n",
            "/usr/local/lib/python3.8/dist-packages/torch/utils/data/dataloader.py:474: UserWarning: This DataLoader will create 3 worker processes in total. Our suggested max number of worker in current system is 2, which is smaller than what this DataLoader is going to create. Please be aware that excessive worker creation might get DataLoader running slow or even freeze, lower the worker number to avoid potential slowness/freeze if necessary.\n",
            "  warnings.warn(_create_warning_msg(\n",
            "\n",
            "Num images:  63\n",
            "Image shape: [3, 32, 32]\n",
            "Label shape: [0]\n",
            "\n",
            "Constructing networks...\n",
            "Setting up PyTorch plugin \"bias_act_plugin\"... Done.\n",
            "Setting up PyTorch plugin \"upfirdn2d_plugin\"... Done.\n",
            "\n",
            "Generator            Parameters  Buffers  Output shape       Datatype\n",
            "---                  ---         ---      ---                ---     \n",
            "mapping.fc0          262656      -        [32, 512]          float32 \n",
            "mapping.fc1          262656      -        [32, 512]          float32 \n",
            "mapping              -           512      [32, 8, 512]       float32 \n",
            "synthesis.b4.conv1   2622465     32       [32, 512, 4, 4]    float32 \n",
            "synthesis.b4.torgb   264195      -        [32, 3, 4, 4]      float32 \n",
            "synthesis.b4:0       8192        16       [32, 512, 4, 4]    float32 \n",
            "synthesis.b4:1       -           -        [32, 512, 4, 4]    float32 \n",
            "synthesis.b8.conv0   2622465     80       [32, 512, 8, 8]    float16 \n",
            "synthesis.b8.conv1   2622465     80       [32, 512, 8, 8]    float16 \n",
            "synthesis.b8.torgb   264195      -        [32, 3, 8, 8]      float16 \n",
            "synthesis.b8:0       -           16       [32, 512, 8, 8]    float16 \n",
            "synthesis.b8:1       -           -        [32, 512, 8, 8]    float32 \n",
            "synthesis.b16.conv0  2622465     272      [32, 512, 16, 16]  float16 \n",
            "synthesis.b16.conv1  2622465     272      [32, 512, 16, 16]  float16 \n",
            "synthesis.b16.torgb  264195      -        [32, 3, 16, 16]    float16 \n",
            "synthesis.b16:0      -           16       [32, 512, 16, 16]  float16 \n",
            "synthesis.b16:1      -           -        [32, 512, 16, 16]  float32 \n",
            "synthesis.b32.conv0  2622465     1040     [32, 512, 32, 32]  float16 \n",
            "synthesis.b32.conv1  2622465     1040     [32, 512, 32, 32]  float16 \n",
            "synthesis.b32.torgb  264195      -        [32, 3, 32, 32]    float16 \n",
            "synthesis.b32:0      -           16       [32, 512, 32, 32]  float16 \n",
            "synthesis.b32:1      -           -        [32, 512, 32, 32]  float32 \n",
            "---                  ---         ---      ---                ---     \n",
            "Total                19947539    3392     -                  -       \n",
            "\n",
            "\n",
            "Discriminator  Parameters  Buffers  Output shape       Datatype\n",
            "---            ---         ---      ---                ---     \n",
            "b32.fromrgb    2048        16       [32, 512, 32, 32]  float16 \n",
            "b32.skip       262144      16       [32, 512, 16, 16]  float16 \n",
            "b32.conv0      2359808     16       [32, 512, 32, 32]  float16 \n",
            "b32.conv1      2359808     16       [32, 512, 16, 16]  float16 \n",
            "b32            -           16       [32, 512, 16, 16]  float16 \n",
            "b16.skip       262144      16       [32, 512, 8, 8]    float16 \n",
            "b16.conv0      2359808     16       [32, 512, 16, 16]  float16 \n",
            "b16.conv1      2359808     16       [32, 512, 8, 8]    float16 \n",
            "b16            -           16       [32, 512, 8, 8]    float16 \n",
            "b8.skip        262144      16       [32, 512, 4, 4]    float16 \n",
            "b8.conv0       2359808     16       [32, 512, 8, 8]    float16 \n",
            "b8.conv1       2359808     16       [32, 512, 4, 4]    float16 \n",
            "b8             -           16       [32, 512, 4, 4]    float16 \n",
            "b4.mbstd       -           -        [32, 513, 4, 4]    float32 \n",
            "b4.conv        2364416     16       [32, 512, 4, 4]    float32 \n",
            "b4.fc          4194816     -        [32, 512]          float32 \n",
            "b4.out         513         -        [32, 1]            float32 \n",
            "---            ---         ---      ---                ---     \n",
            "Total          21507073    224      -                  -       \n",
            "\n",
            "Setting up augmentation...\n",
            "Distributing across 1 GPUs...\n",
            "Setting up training phases...\n",
            "Exporting sample images...\n",
            "Initializing logs...\n",
            "2023-02-18 09:13:54.924433: I tensorflow/core/platform/cpu_feature_guard.cc:193] This TensorFlow binary is optimized with oneAPI Deep Neural Network Library (oneDNN) to use the following CPU instructions in performance-critical operations:  AVX2 FMA\n",
            "To enable them in other operations, rebuild TensorFlow with the appropriate compiler flags.\n",
            "2023-02-18 09:13:58.807200: W tensorflow/compiler/xla/stream_executor/platform/default/dso_loader.cc:64] Could not load dynamic library 'libnvinfer.so.7'; dlerror: libnvinfer.so.7: cannot open shared object file: No such file or directory; LD_LIBRARY_PATH: /usr/lib64-nvidia\n",
            "2023-02-18 09:13:58.807554: W tensorflow/compiler/xla/stream_executor/platform/default/dso_loader.cc:64] Could not load dynamic library 'libnvinfer_plugin.so.7'; dlerror: libnvinfer_plugin.so.7: cannot open shared object file: No such file or directory; LD_LIBRARY_PATH: /usr/lib64-nvidia\n",
            "2023-02-18 09:13:58.807577: W tensorflow/compiler/tf2tensorrt/utils/py_utils.cc:38] TF-TRT Warning: Cannot dlopen some TensorRT libraries. If you would like to use Nvidia GPU with TensorRT, please make sure the missing libraries mentioned above are installed properly.\n",
            "Training for 25000 kimg...\n",
            "\n",
            "tick 0     kimg 0.0      time 1m 14s       sec/tick 5.8     sec/kimg 180.35  maintenance 68.2   cpumem 3.78   gpumem 10.84  augment 0.000\n",
            "Evaluating metrics...\n",
            "/usr/local/lib/python3.8/dist-packages/torch/utils/data/dataloader.py:474: UserWarning: This DataLoader will create 3 worker processes in total. Our suggested max number of worker in current system is 2, which is smaller than what this DataLoader is going to create. Please be aware that excessive worker creation might get DataLoader running slow or even freeze, lower the worker number to avoid potential slowness/freeze if necessary.\n",
            "  warnings.warn(_create_warning_msg(\n",
            "{\"results\": {\"fid50k_full\": 337.71358798129114}, \"metric\": \"fid50k_full\", \"total_time\": 405.55352807044983, \"total_time_str\": \"6m 46s\", \"num_gpus\": 1, \"snapshot_pkl\": \"network-snapshot-000000.pkl\", \"timestamp\": 1676712056.9249792}\n",
            "tick 1     kimg 4.0      time 9m 17s       sec/tick 73.9    sec/kimg 18.47   maintenance 409.5  cpumem 4.12   gpumem 9.25   augment 0.006\n",
            "tick 2     kimg 8.0      time 10m 32s      sec/tick 74.1    sec/kimg 18.53   maintenance 0.1    cpumem 4.12   gpumem 4.46   augment 0.013\n",
            "tick 3     kimg 12.0     time 11m 46s      sec/tick 74.1    sec/kimg 18.53   maintenance 0.1    cpumem 4.12   gpumem 4.46   augment 0.017\n",
            "tick 4     kimg 16.0     time 13m 00s      sec/tick 74.4    sec/kimg 18.59   maintenance 0.0    cpumem 4.12   gpumem 4.46   augment 0.025\n",
            "tick 5     kimg 20.0     time 14m 14s      sec/tick 74.3    sec/kimg 18.57   maintenance 0.1    cpumem 4.12   gpumem 4.46   augment 0.031\n",
            "tick 6     kimg 24.0     time 15m 28s      sec/tick 73.9    sec/kimg 18.48   maintenance 0.1    cpumem 4.12   gpumem 4.46   augment 0.036\n",
            "tick 7     kimg 28.0     time 16m 43s      sec/tick 74.2    sec/kimg 18.56   maintenance 0.1    cpumem 4.12   gpumem 4.46   augment 0.043\n",
            "tick 8     kimg 32.0     time 17m 57s      sec/tick 74.4    sec/kimg 18.60   maintenance 0.0    cpumem 4.12   gpumem 4.46   augment 0.049\n",
            "tick 9     kimg 36.0     time 19m 11s      sec/tick 74.0    sec/kimg 18.51   maintenance 0.1    cpumem 4.12   gpumem 4.46   augment 0.057\n",
            "tick 10    kimg 40.0     time 20m 25s      sec/tick 74.1    sec/kimg 18.53   maintenance 0.1    cpumem 4.12   gpumem 4.46   augment 0.065\n",
            "Evaluating metrics...\n",
            "{\"results\": {\"fid50k_full\": 338.06695324100065}, \"metric\": \"fid50k_full\", \"total_time\": 393.22233176231384, \"total_time_str\": \"6m 33s\", \"num_gpus\": 1, \"snapshot_pkl\": \"network-snapshot-000040.pkl\", \"timestamp\": 1676713195.6044142}\n",
            "tick 11    kimg 44.0     time 28m 16s      sec/tick 74.1    sec/kimg 18.53   maintenance 396.8  cpumem 4.12   gpumem 4.46   augment 0.073\n",
            "tick 12    kimg 48.0     time 29m 31s      sec/tick 74.4    sec/kimg 18.60   maintenance 0.0    cpumem 4.12   gpumem 4.46   augment 0.081\n",
            "tick 13    kimg 52.0     time 30m 45s      sec/tick 74.2    sec/kimg 18.54   maintenance 0.1    cpumem 4.12   gpumem 4.46   augment 0.089\n",
            "tick 14    kimg 56.0     time 31m 59s      sec/tick 74.1    sec/kimg 18.53   maintenance 0.1    cpumem 4.12   gpumem 4.46   augment 0.096\n",
            "tick 15    kimg 60.0     time 33m 13s      sec/tick 74.1    sec/kimg 18.53   maintenance 0.1    cpumem 4.12   gpumem 4.46   augment 0.104\n",
            "tick 16    kimg 64.0     time 34m 28s      sec/tick 74.5    sec/kimg 18.62   maintenance 0.0    cpumem 4.12   gpumem 4.46   augment 0.112\n",
            "tick 17    kimg 68.0     time 35m 42s      sec/tick 74.0    sec/kimg 18.49   maintenance 0.1    cpumem 4.12   gpumem 4.46   augment 0.120\n",
            "tick 18    kimg 72.0     time 36m 56s      sec/tick 74.1    sec/kimg 18.53   maintenance 0.1    cpumem 4.12   gpumem 4.46   augment 0.126\n",
            "tick 19    kimg 76.0     time 38m 10s      sec/tick 74.2    sec/kimg 18.54   maintenance 0.1    cpumem 4.12   gpumem 4.46   augment 0.135\n",
            "tick 20    kimg 80.0     time 39m 25s      sec/tick 74.3    sec/kimg 18.58   maintenance 0.0    cpumem 4.12   gpumem 4.46   augment 0.143\n",
            "Evaluating metrics...\n",
            "{\"results\": {\"fid50k_full\": 250.07130958962176}, \"metric\": \"fid50k_full\", \"total_time\": 390.19980454444885, \"total_time_str\": \"6m 30s\", \"num_gpus\": 1, \"snapshot_pkl\": \"network-snapshot-000080.pkl\", \"timestamp\": 1676714331.888983}\n",
            "tick 21    kimg 84.0     time 47m 13s      sec/tick 74.3    sec/kimg 18.58   maintenance 393.9  cpumem 4.12   gpumem 4.46   augment 0.151\n",
            "tick 22    kimg 88.0     time 48m 27s      sec/tick 74.0    sec/kimg 18.51   maintenance 0.1    cpumem 4.12   gpumem 4.46   augment 0.158\n",
            "tick 23    kimg 92.0     time 49m 41s      sec/tick 74.2    sec/kimg 18.54   maintenance 0.1    cpumem 4.12   gpumem 4.46   augment 0.166\n",
            "tick 24    kimg 96.0     time 50m 56s      sec/tick 74.5    sec/kimg 18.63   maintenance 0.0    cpumem 4.12   gpumem 4.46   augment 0.173\n",
            "tick 25    kimg 100.0    time 52m 10s      sec/tick 74.2    sec/kimg 18.54   maintenance 0.1    cpumem 4.12   gpumem 4.46   augment 0.179\n",
            "tick 26    kimg 104.0    time 53m 24s      sec/tick 74.2    sec/kimg 18.55   maintenance 0.1    cpumem 4.12   gpumem 4.46   augment 0.186\n",
            "tick 27    kimg 108.0    time 54m 38s      sec/tick 74.1    sec/kimg 18.52   maintenance 0.1    cpumem 4.12   gpumem 4.46   augment 0.193\n",
            "tick 28    kimg 112.0    time 55m 53s      sec/tick 74.5    sec/kimg 18.63   maintenance 0.0    cpumem 4.12   gpumem 4.46   augment 0.200\n",
            "tick 29    kimg 116.0    time 57m 07s      sec/tick 74.1    sec/kimg 18.51   maintenance 0.1    cpumem 4.12   gpumem 4.46   augment 0.206\n",
            "tick 30    kimg 120.0    time 58m 21s      sec/tick 74.1    sec/kimg 18.53   maintenance 0.1    cpumem 4.12   gpumem 4.46   augment 0.213\n",
            "Evaluating metrics...\n",
            "{\"results\": {\"fid50k_full\": 277.35525597850335}, \"metric\": \"fid50k_full\", \"total_time\": 390.49024772644043, \"total_time_str\": \"6m 30s\", \"num_gpus\": 1, \"snapshot_pkl\": \"network-snapshot-000120.pkl\", \"timestamp\": 1676715468.5719757}\n",
            "tick 31    kimg 124.0    time 1h 06m 10s   sec/tick 74.4    sec/kimg 18.60   maintenance 394.1  cpumem 4.12   gpumem 4.46   augment 0.221\n",
            "tick 32    kimg 128.0    time 1h 07m 24s   sec/tick 74.4    sec/kimg 18.59   maintenance 0.0    cpumem 4.12   gpumem 4.46   augment 0.228\n",
            "tick 33    kimg 132.0    time 1h 08m 38s   sec/tick 73.9    sec/kimg 18.49   maintenance 0.1    cpumem 4.12   gpumem 4.46   augment 0.234\n",
            "tick 34    kimg 136.0    time 1h 09m 52s   sec/tick 74.2    sec/kimg 18.55   maintenance 0.1    cpumem 4.12   gpumem 4.46   augment 0.240\n",
            "tick 35    kimg 140.0    time 1h 11m 06s   sec/tick 74.2    sec/kimg 18.54   maintenance 0.1    cpumem 4.12   gpumem 4.46   augment 0.246\n",
            "tick 36    kimg 144.0    time 1h 12m 21s   sec/tick 74.4    sec/kimg 18.61   maintenance 0.0    cpumem 4.12   gpumem 4.46   augment 0.252\n",
            "tick 37    kimg 148.0    time 1h 13m 35s   sec/tick 74.1    sec/kimg 18.53   maintenance 0.1    cpumem 4.12   gpumem 4.46   augment 0.258\n",
            "tick 38    kimg 152.0    time 1h 14m 49s   sec/tick 74.0    sec/kimg 18.50   maintenance 0.1    cpumem 4.12   gpumem 4.46   augment 0.263\n",
            "tick 39    kimg 156.0    time 1h 16m 03s   sec/tick 74.1    sec/kimg 18.53   maintenance 0.1    cpumem 4.12   gpumem 4.46   augment 0.269\n",
            "tick 40    kimg 160.0    time 1h 17m 18s   sec/tick 74.5    sec/kimg 18.63   maintenance 0.0    cpumem 4.12   gpumem 4.46   augment 0.274\n",
            "Evaluating metrics...\n",
            "{\"results\": {\"fid50k_full\": 236.98237924493947}, \"metric\": \"fid50k_full\", \"total_time\": 390.2693569660187, \"total_time_str\": \"6m 30s\", \"num_gpus\": 1, \"snapshot_pkl\": \"network-snapshot-000160.pkl\", \"timestamp\": 1676716604.958927}\n",
            "tick 41    kimg 164.0    time 1h 25m 06s   sec/tick 74.2    sec/kimg 18.55   maintenance 393.7  cpumem 4.12   gpumem 4.46   augment 0.278\n",
            "tick 42    kimg 168.0    time 1h 26m 20s   sec/tick 74.2    sec/kimg 18.54   maintenance 0.1    cpumem 4.12   gpumem 4.46   augment 0.284\n",
            "tick 43    kimg 172.0    time 1h 27m 34s   sec/tick 74.0    sec/kimg 18.50   maintenance 0.1    cpumem 4.12   gpumem 4.46   augment 0.290\n",
            "tick 44    kimg 176.0    time 1h 28m 48s   sec/tick 74.5    sec/kimg 18.62   maintenance 0.0    cpumem 4.12   gpumem 4.46   augment 0.296\n",
            "tick 45    kimg 180.0    time 1h 30m 03s   sec/tick 74.1    sec/kimg 18.53   maintenance 0.1    cpumem 4.12   gpumem 4.46   augment 0.299\n",
            "tick 46    kimg 184.0    time 1h 31m 17s   sec/tick 74.1    sec/kimg 18.52   maintenance 0.1    cpumem 4.12   gpumem 4.46   augment 0.304\n",
            "tick 47    kimg 188.0    time 1h 32m 31s   sec/tick 74.2    sec/kimg 18.54   maintenance 0.1    cpumem 4.12   gpumem 4.46   augment 0.311\n",
            "tick 48    kimg 192.0    time 1h 33m 45s   sec/tick 74.3    sec/kimg 18.59   maintenance 0.0    cpumem 4.12   gpumem 4.46   augment 0.317\n",
            "tick 49    kimg 196.0    time 1h 35m 00s   sec/tick 74.0    sec/kimg 18.50   maintenance 0.1    cpumem 4.12   gpumem 4.46   augment 0.321\n",
            "tick 50    kimg 200.0    time 1h 36m 14s   sec/tick 74.1    sec/kimg 18.53   maintenance 0.1    cpumem 4.12   gpumem 4.46   augment 0.326\n",
            "Evaluating metrics...\n",
            "{\"results\": {\"fid50k_full\": 240.23574670811018}, \"metric\": \"fid50k_full\", \"total_time\": 387.48433899879456, \"total_time_str\": \"6m 27s\", \"num_gpus\": 1, \"snapshot_pkl\": \"network-snapshot-000200.pkl\", \"timestamp\": 1676717738.0985947}\n",
            "tick 51    kimg 204.0    time 1h 43m 59s   sec/tick 74.4    sec/kimg 18.59   maintenance 391.0  cpumem 4.12   gpumem 4.46   augment 0.328\n",
            "tick 52    kimg 208.0    time 1h 45m 13s   sec/tick 74.4    sec/kimg 18.60   maintenance 0.0    cpumem 4.12   gpumem 4.46   augment 0.333\n",
            "tick 53    kimg 212.0    time 1h 46m 28s   sec/tick 74.1    sec/kimg 18.52   maintenance 0.1    cpumem 4.12   gpumem 4.46   augment 0.336\n",
            "tick 54    kimg 216.0    time 1h 47m 42s   sec/tick 74.0    sec/kimg 18.49   maintenance 0.1    cpumem 4.12   gpumem 4.46   augment 0.341\n",
            "tick 55    kimg 220.0    time 1h 48m 56s   sec/tick 74.2    sec/kimg 18.55   maintenance 0.1    cpumem 4.12   gpumem 4.46   augment 0.345\n",
            "tick 56    kimg 224.0    time 1h 50m 10s   sec/tick 74.4    sec/kimg 18.61   maintenance 0.0    cpumem 4.12   gpumem 4.46   augment 0.350\n",
            "tick 57    kimg 228.0    time 1h 51m 25s   sec/tick 74.2    sec/kimg 18.55   maintenance 0.1    cpumem 4.12   gpumem 4.46   augment 0.355\n",
            "tick 58    kimg 232.0    time 1h 52m 39s   sec/tick 74.1    sec/kimg 18.53   maintenance 0.1    cpumem 4.12   gpumem 4.46   augment 0.358\n",
            "tick 59    kimg 236.0    time 1h 53m 53s   sec/tick 74.1    sec/kimg 18.52   maintenance 0.1    cpumem 4.12   gpumem 4.46   augment 0.364\n",
            "tick 60    kimg 240.0    time 1h 55m 07s   sec/tick 74.5    sec/kimg 18.62   maintenance 0.0    cpumem 4.12   gpumem 4.46   augment 0.369\n",
            "Evaluating metrics...\n",
            "{\"results\": {\"fid50k_full\": 229.2964970764249}, \"metric\": \"fid50k_full\", \"total_time\": 389.36248421669006, \"total_time_str\": \"6m 29s\", \"num_gpus\": 1, \"snapshot_pkl\": \"network-snapshot-000240.pkl\", \"timestamp\": 1676718873.6395195}\n",
            "\n",
            "Aborted!\n"
          ]
        }
      ]
    },
    {
      "cell_type": "markdown",
      "source": [
        "## Generating images"
      ],
      "metadata": {
        "id": "UldurZwGPA_F"
      }
    },
    {
      "cell_type": "code",
      "source": [
        "import numpy as np\n",
        "np.array(list(range(0,32)))"
      ],
      "metadata": {
        "colab": {
          "base_uri": "https://localhost:8080/"
        },
        "id": "V2ylZWahPGx5",
        "outputId": "1f9790fa-106b-4305-914c-3ba678275156"
      },
      "execution_count": 16,
      "outputs": [
        {
          "output_type": "execute_result",
          "data": {
            "text/plain": [
              "array([ 0,  1,  2,  3,  4,  5,  6,  7,  8,  9, 10, 11, 12, 13, 14, 15, 16,\n",
              "       17, 18, 19, 20, 21, 22, 23, 24, 25, 26, 27, 28, 29, 30, 31])"
            ]
          },
          "metadata": {},
          "execution_count": 16
        }
      ]
    },
    {
      "cell_type": "code",
      "source": [
        "s = \"/usr/bin/python3 /content/stylegan2-ada-pytorch/generate.py --outdir=/content/drive/MyDrive/GAN/outputs --trunc=1 --seeds=16,17,18,19,20,21,22,23,24,25,26,27,28,29,30,31\\\n",
        "    --network=/content/drive/MyDrive/GAN/experiments/00000-album-auto1/network-snapshot-000240.pkl\"\n",
        "\n",
        "!{s}"
      ],
      "metadata": {
        "colab": {
          "base_uri": "https://localhost:8080/"
        },
        "id": "z0DTDlHbPZLB",
        "outputId": "e0f98d9b-3a66-421c-a9be-a5e4773d82a4"
      },
      "execution_count": 20,
      "outputs": [
        {
          "output_type": "stream",
          "name": "stdout",
          "text": [
            "Loading networks from \"/content/drive/MyDrive/GAN/experiments/00000-album-auto1/network-snapshot-000240.pkl\"...\n",
            "Generating image for seed 16 (0/16) ...\n",
            "Setting up PyTorch plugin \"bias_act_plugin\"... Done.\n",
            "Setting up PyTorch plugin \"upfirdn2d_plugin\"... Done.\n",
            "Generating image for seed 17 (1/16) ...\n",
            "Generating image for seed 18 (2/16) ...\n",
            "Generating image for seed 19 (3/16) ...\n",
            "Generating image for seed 20 (4/16) ...\n",
            "Generating image for seed 21 (5/16) ...\n",
            "Generating image for seed 22 (6/16) ...\n",
            "Generating image for seed 23 (7/16) ...\n",
            "Generating image for seed 24 (8/16) ...\n",
            "Generating image for seed 25 (9/16) ...\n",
            "Generating image for seed 26 (10/16) ...\n",
            "Generating image for seed 27 (11/16) ...\n",
            "Generating image for seed 28 (12/16) ...\n",
            "Generating image for seed 29 (13/16) ...\n",
            "Generating image for seed 30 (14/16) ...\n",
            "Generating image for seed 31 (15/16) ...\n"
          ]
        }
      ]
    }
  ]
}